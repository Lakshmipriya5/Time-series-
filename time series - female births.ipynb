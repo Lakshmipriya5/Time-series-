{
 "cells": [
  {
   "cell_type": "code",
   "execution_count": 1,
   "metadata": {},
   "outputs": [],
   "source": [
    "import numpy as np\n",
    "import pandas as pd\n",
    "import matplotlib.pyplot as plt\n",
    "import seaborn as sns\n",
    "\n",
    "%matplotlib inline\n",
    "\n",
    "#daily-total-female-births"
   ]
  },
  {
   "cell_type": "code",
   "execution_count": 2,
   "metadata": {},
   "outputs": [],
   "source": [
    "f_birth=pd.read_csv(r'C:\\Users\\ELCOT\\Documents\\Machine learning\\Datasets\\daily-total-female-births.csv',index_col=[0],parse_dates=[0])"
   ]
  },
  {
   "cell_type": "code",
   "execution_count": 3,
   "metadata": {},
   "outputs": [
    {
     "data": {
      "text/html": [
       "<div>\n",
       "<style scoped>\n",
       "    .dataframe tbody tr th:only-of-type {\n",
       "        vertical-align: middle;\n",
       "    }\n",
       "\n",
       "    .dataframe tbody tr th {\n",
       "        vertical-align: top;\n",
       "    }\n",
       "\n",
       "    .dataframe thead th {\n",
       "        text-align: right;\n",
       "    }\n",
       "</style>\n",
       "<table border=\"1\" class=\"dataframe\">\n",
       "  <thead>\n",
       "    <tr style=\"text-align: right;\">\n",
       "      <th></th>\n",
       "      <th>Births</th>\n",
       "    </tr>\n",
       "    <tr>\n",
       "      <th>Date</th>\n",
       "      <th></th>\n",
       "    </tr>\n",
       "  </thead>\n",
       "  <tbody>\n",
       "    <tr>\n",
       "      <td>1959-01-01</td>\n",
       "      <td>35</td>\n",
       "    </tr>\n",
       "    <tr>\n",
       "      <td>1959-01-02</td>\n",
       "      <td>32</td>\n",
       "    </tr>\n",
       "    <tr>\n",
       "      <td>1959-01-03</td>\n",
       "      <td>30</td>\n",
       "    </tr>\n",
       "    <tr>\n",
       "      <td>1959-01-04</td>\n",
       "      <td>31</td>\n",
       "    </tr>\n",
       "    <tr>\n",
       "      <td>1959-01-05</td>\n",
       "      <td>44</td>\n",
       "    </tr>\n",
       "  </tbody>\n",
       "</table>\n",
       "</div>"
      ],
      "text/plain": [
       "            Births\n",
       "Date              \n",
       "1959-01-01      35\n",
       "1959-01-02      32\n",
       "1959-01-03      30\n",
       "1959-01-04      31\n",
       "1959-01-05      44"
      ]
     },
     "execution_count": 3,
     "metadata": {},
     "output_type": "execute_result"
    }
   ],
   "source": [
    "f_birth.head()"
   ]
  },
  {
   "cell_type": "code",
   "execution_count": 4,
   "metadata": {},
   "outputs": [
    {
     "data": {
      "text/html": [
       "<div>\n",
       "<style scoped>\n",
       "    .dataframe tbody tr th:only-of-type {\n",
       "        vertical-align: middle;\n",
       "    }\n",
       "\n",
       "    .dataframe tbody tr th {\n",
       "        vertical-align: top;\n",
       "    }\n",
       "\n",
       "    .dataframe thead th {\n",
       "        text-align: right;\n",
       "    }\n",
       "</style>\n",
       "<table border=\"1\" class=\"dataframe\">\n",
       "  <thead>\n",
       "    <tr style=\"text-align: right;\">\n",
       "      <th></th>\n",
       "      <th>Births</th>\n",
       "    </tr>\n",
       "    <tr>\n",
       "      <th>Date</th>\n",
       "      <th></th>\n",
       "    </tr>\n",
       "  </thead>\n",
       "  <tbody>\n",
       "    <tr>\n",
       "      <td>1959-12-27</td>\n",
       "      <td>37</td>\n",
       "    </tr>\n",
       "    <tr>\n",
       "      <td>1959-12-28</td>\n",
       "      <td>52</td>\n",
       "    </tr>\n",
       "    <tr>\n",
       "      <td>1959-12-29</td>\n",
       "      <td>48</td>\n",
       "    </tr>\n",
       "    <tr>\n",
       "      <td>1959-12-30</td>\n",
       "      <td>55</td>\n",
       "    </tr>\n",
       "    <tr>\n",
       "      <td>1959-12-31</td>\n",
       "      <td>50</td>\n",
       "    </tr>\n",
       "  </tbody>\n",
       "</table>\n",
       "</div>"
      ],
      "text/plain": [
       "            Births\n",
       "Date              \n",
       "1959-12-27      37\n",
       "1959-12-28      52\n",
       "1959-12-29      48\n",
       "1959-12-30      55\n",
       "1959-12-31      50"
      ]
     },
     "execution_count": 4,
     "metadata": {},
     "output_type": "execute_result"
    }
   ],
   "source": [
    "f_birth.tail()"
   ]
  },
  {
   "cell_type": "code",
   "execution_count": 5,
   "metadata": {},
   "outputs": [],
   "source": [
    "#normalization\n",
    "\n",
    "#1.if data on different scales(m,cm like that)\n",
    "#2.linear and logistic regreesion algorithm fine\n",
    "\n",
    "#normalization=(x-min)/(max-min)"
   ]
  },
  {
   "cell_type": "code",
   "execution_count": 6,
   "metadata": {},
   "outputs": [
    {
     "data": {
      "text/plain": [
       "Births    23\n",
       "dtype: int64"
      ]
     },
     "execution_count": 6,
     "metadata": {},
     "output_type": "execute_result"
    }
   ],
   "source": [
    "f_birth.min()"
   ]
  },
  {
   "cell_type": "code",
   "execution_count": 7,
   "metadata": {},
   "outputs": [
    {
     "data": {
      "text/plain": [
       "Births    73\n",
       "dtype: int64"
      ]
     },
     "execution_count": 7,
     "metadata": {},
     "output_type": "execute_result"
    }
   ],
   "source": [
    "f_birth.max()"
   ]
  },
  {
   "cell_type": "code",
   "execution_count": 8,
   "metadata": {},
   "outputs": [],
   "source": [
    "from sklearn.preprocessing import MinMaxScaler"
   ]
  },
  {
   "cell_type": "code",
   "execution_count": 9,
   "metadata": {},
   "outputs": [],
   "source": [
    "birth_arr=f_birth.values"
   ]
  },
  {
   "cell_type": "code",
   "execution_count": 10,
   "metadata": {},
   "outputs": [
    {
     "data": {
      "text/plain": [
       "array([[35],\n",
       "       [32],\n",
       "       [30],\n",
       "       [31],\n",
       "       [44],\n",
       "       [29],\n",
       "       [45],\n",
       "       [43],\n",
       "       [38],\n",
       "       [27],\n",
       "       [38],\n",
       "       [33],\n",
       "       [55],\n",
       "       [47],\n",
       "       [45],\n",
       "       [37],\n",
       "       [50],\n",
       "       [43],\n",
       "       [41],\n",
       "       [52],\n",
       "       [34],\n",
       "       [53],\n",
       "       [39],\n",
       "       [32],\n",
       "       [37],\n",
       "       [43],\n",
       "       [39],\n",
       "       [35],\n",
       "       [44],\n",
       "       [38],\n",
       "       [24],\n",
       "       [23],\n",
       "       [31],\n",
       "       [44],\n",
       "       [38],\n",
       "       [50],\n",
       "       [38],\n",
       "       [51],\n",
       "       [31],\n",
       "       [31],\n",
       "       [51],\n",
       "       [36],\n",
       "       [45],\n",
       "       [51],\n",
       "       [34],\n",
       "       [52],\n",
       "       [47],\n",
       "       [45],\n",
       "       [46],\n",
       "       [39],\n",
       "       [48],\n",
       "       [37],\n",
       "       [35],\n",
       "       [52],\n",
       "       [42],\n",
       "       [45],\n",
       "       [39],\n",
       "       [37],\n",
       "       [30],\n",
       "       [35],\n",
       "       [28],\n",
       "       [45],\n",
       "       [34],\n",
       "       [36],\n",
       "       [50],\n",
       "       [44],\n",
       "       [39],\n",
       "       [32],\n",
       "       [39],\n",
       "       [45],\n",
       "       [43],\n",
       "       [39],\n",
       "       [31],\n",
       "       [27],\n",
       "       [30],\n",
       "       [42],\n",
       "       [46],\n",
       "       [41],\n",
       "       [36],\n",
       "       [45],\n",
       "       [46],\n",
       "       [43],\n",
       "       [38],\n",
       "       [34],\n",
       "       [35],\n",
       "       [56],\n",
       "       [36],\n",
       "       [32],\n",
       "       [50],\n",
       "       [41],\n",
       "       [39],\n",
       "       [41],\n",
       "       [47],\n",
       "       [34],\n",
       "       [36],\n",
       "       [33],\n",
       "       [35],\n",
       "       [38],\n",
       "       [38],\n",
       "       [34],\n",
       "       [53],\n",
       "       [34],\n",
       "       [34],\n",
       "       [38],\n",
       "       [35],\n",
       "       [32],\n",
       "       [42],\n",
       "       [34],\n",
       "       [46],\n",
       "       [30],\n",
       "       [46],\n",
       "       [45],\n",
       "       [54],\n",
       "       [34],\n",
       "       [37],\n",
       "       [35],\n",
       "       [40],\n",
       "       [42],\n",
       "       [58],\n",
       "       [51],\n",
       "       [32],\n",
       "       [35],\n",
       "       [38],\n",
       "       [33],\n",
       "       [39],\n",
       "       [47],\n",
       "       [38],\n",
       "       [52],\n",
       "       [30],\n",
       "       [34],\n",
       "       [40],\n",
       "       [35],\n",
       "       [42],\n",
       "       [41],\n",
       "       [42],\n",
       "       [38],\n",
       "       [24],\n",
       "       [34],\n",
       "       [43],\n",
       "       [36],\n",
       "       [55],\n",
       "       [41],\n",
       "       [45],\n",
       "       [41],\n",
       "       [37],\n",
       "       [43],\n",
       "       [39],\n",
       "       [33],\n",
       "       [43],\n",
       "       [40],\n",
       "       [38],\n",
       "       [45],\n",
       "       [46],\n",
       "       [34],\n",
       "       [35],\n",
       "       [48],\n",
       "       [51],\n",
       "       [36],\n",
       "       [33],\n",
       "       [46],\n",
       "       [42],\n",
       "       [48],\n",
       "       [34],\n",
       "       [41],\n",
       "       [35],\n",
       "       [40],\n",
       "       [34],\n",
       "       [30],\n",
       "       [36],\n",
       "       [40],\n",
       "       [39],\n",
       "       [45],\n",
       "       [38],\n",
       "       [47],\n",
       "       [33],\n",
       "       [30],\n",
       "       [42],\n",
       "       [43],\n",
       "       [41],\n",
       "       [41],\n",
       "       [59],\n",
       "       [43],\n",
       "       [45],\n",
       "       [38],\n",
       "       [37],\n",
       "       [45],\n",
       "       [42],\n",
       "       [57],\n",
       "       [46],\n",
       "       [51],\n",
       "       [41],\n",
       "       [47],\n",
       "       [26],\n",
       "       [35],\n",
       "       [44],\n",
       "       [41],\n",
       "       [42],\n",
       "       [36],\n",
       "       [45],\n",
       "       [45],\n",
       "       [45],\n",
       "       [47],\n",
       "       [38],\n",
       "       [42],\n",
       "       [35],\n",
       "       [36],\n",
       "       [39],\n",
       "       [45],\n",
       "       [43],\n",
       "       [47],\n",
       "       [36],\n",
       "       [41],\n",
       "       [50],\n",
       "       [39],\n",
       "       [41],\n",
       "       [46],\n",
       "       [64],\n",
       "       [45],\n",
       "       [34],\n",
       "       [38],\n",
       "       [44],\n",
       "       [48],\n",
       "       [46],\n",
       "       [44],\n",
       "       [37],\n",
       "       [39],\n",
       "       [44],\n",
       "       [45],\n",
       "       [33],\n",
       "       [44],\n",
       "       [38],\n",
       "       [46],\n",
       "       [46],\n",
       "       [40],\n",
       "       [39],\n",
       "       [44],\n",
       "       [48],\n",
       "       [50],\n",
       "       [41],\n",
       "       [42],\n",
       "       [51],\n",
       "       [41],\n",
       "       [44],\n",
       "       [38],\n",
       "       [68],\n",
       "       [40],\n",
       "       [42],\n",
       "       [51],\n",
       "       [44],\n",
       "       [45],\n",
       "       [36],\n",
       "       [57],\n",
       "       [44],\n",
       "       [42],\n",
       "       [53],\n",
       "       [42],\n",
       "       [34],\n",
       "       [40],\n",
       "       [56],\n",
       "       [44],\n",
       "       [53],\n",
       "       [55],\n",
       "       [39],\n",
       "       [59],\n",
       "       [55],\n",
       "       [73],\n",
       "       [55],\n",
       "       [44],\n",
       "       [43],\n",
       "       [40],\n",
       "       [47],\n",
       "       [51],\n",
       "       [56],\n",
       "       [49],\n",
       "       [54],\n",
       "       [56],\n",
       "       [47],\n",
       "       [44],\n",
       "       [43],\n",
       "       [42],\n",
       "       [45],\n",
       "       [50],\n",
       "       [48],\n",
       "       [43],\n",
       "       [40],\n",
       "       [59],\n",
       "       [41],\n",
       "       [42],\n",
       "       [51],\n",
       "       [49],\n",
       "       [45],\n",
       "       [43],\n",
       "       [42],\n",
       "       [38],\n",
       "       [47],\n",
       "       [38],\n",
       "       [36],\n",
       "       [42],\n",
       "       [35],\n",
       "       [28],\n",
       "       [44],\n",
       "       [36],\n",
       "       [45],\n",
       "       [46],\n",
       "       [48],\n",
       "       [49],\n",
       "       [43],\n",
       "       [42],\n",
       "       [59],\n",
       "       [45],\n",
       "       [52],\n",
       "       [46],\n",
       "       [42],\n",
       "       [40],\n",
       "       [40],\n",
       "       [45],\n",
       "       [35],\n",
       "       [35],\n",
       "       [40],\n",
       "       [39],\n",
       "       [33],\n",
       "       [42],\n",
       "       [47],\n",
       "       [51],\n",
       "       [44],\n",
       "       [40],\n",
       "       [57],\n",
       "       [49],\n",
       "       [45],\n",
       "       [49],\n",
       "       [51],\n",
       "       [46],\n",
       "       [44],\n",
       "       [52],\n",
       "       [45],\n",
       "       [32],\n",
       "       [46],\n",
       "       [41],\n",
       "       [34],\n",
       "       [33],\n",
       "       [36],\n",
       "       [49],\n",
       "       [43],\n",
       "       [43],\n",
       "       [34],\n",
       "       [39],\n",
       "       [35],\n",
       "       [52],\n",
       "       [47],\n",
       "       [52],\n",
       "       [39],\n",
       "       [40],\n",
       "       [42],\n",
       "       [42],\n",
       "       [53],\n",
       "       [39],\n",
       "       [40],\n",
       "       [38],\n",
       "       [44],\n",
       "       [34],\n",
       "       [37],\n",
       "       [52],\n",
       "       [48],\n",
       "       [55],\n",
       "       [50]], dtype=int64)"
      ]
     },
     "execution_count": 10,
     "metadata": {},
     "output_type": "execute_result"
    }
   ],
   "source": [
    "birth_arr"
   ]
  },
  {
   "cell_type": "code",
   "execution_count": 11,
   "metadata": {},
   "outputs": [],
   "source": [
    "scaler=MinMaxScaler(feature_range=(0,1))"
   ]
  },
  {
   "cell_type": "code",
   "execution_count": 12,
   "metadata": {},
   "outputs": [],
   "source": [
    "scaler=scaler.fit(birth_arr)"
   ]
  },
  {
   "cell_type": "code",
   "execution_count": 13,
   "metadata": {},
   "outputs": [
    {
     "data": {
      "text/plain": [
       "MinMaxScaler(copy=True, feature_range=(0, 1))"
      ]
     },
     "execution_count": 13,
     "metadata": {},
     "output_type": "execute_result"
    }
   ],
   "source": [
    "scaler"
   ]
  },
  {
   "cell_type": "code",
   "execution_count": 14,
   "metadata": {},
   "outputs": [
    {
     "data": {
      "text/plain": [
       "array([23.])"
      ]
     },
     "execution_count": 14,
     "metadata": {},
     "output_type": "execute_result"
    }
   ],
   "source": [
    "scaler.data_min_"
   ]
  },
  {
   "cell_type": "code",
   "execution_count": 15,
   "metadata": {},
   "outputs": [
    {
     "data": {
      "text/plain": [
       "array([73.])"
      ]
     },
     "execution_count": 15,
     "metadata": {},
     "output_type": "execute_result"
    }
   ],
   "source": [
    "scaler.data_max_"
   ]
  },
  {
   "cell_type": "code",
   "execution_count": 16,
   "metadata": {},
   "outputs": [],
   "source": [
    "birth_normalize=scaler.transform(birth_arr)"
   ]
  },
  {
   "cell_type": "code",
   "execution_count": 17,
   "metadata": {},
   "outputs": [
    {
     "data": {
      "text/plain": [
       "array([[0.24],\n",
       "       [0.18],\n",
       "       [0.14],\n",
       "       [0.16],\n",
       "       [0.42],\n",
       "       [0.12],\n",
       "       [0.44],\n",
       "       [0.4 ],\n",
       "       [0.3 ],\n",
       "       [0.08],\n",
       "       [0.3 ],\n",
       "       [0.2 ],\n",
       "       [0.64],\n",
       "       [0.48],\n",
       "       [0.44],\n",
       "       [0.28],\n",
       "       [0.54],\n",
       "       [0.4 ],\n",
       "       [0.36],\n",
       "       [0.58],\n",
       "       [0.22],\n",
       "       [0.6 ],\n",
       "       [0.32],\n",
       "       [0.18],\n",
       "       [0.28],\n",
       "       [0.4 ],\n",
       "       [0.32],\n",
       "       [0.24],\n",
       "       [0.42],\n",
       "       [0.3 ],\n",
       "       [0.02],\n",
       "       [0.  ],\n",
       "       [0.16],\n",
       "       [0.42],\n",
       "       [0.3 ],\n",
       "       [0.54],\n",
       "       [0.3 ],\n",
       "       [0.56],\n",
       "       [0.16],\n",
       "       [0.16],\n",
       "       [0.56],\n",
       "       [0.26],\n",
       "       [0.44],\n",
       "       [0.56],\n",
       "       [0.22],\n",
       "       [0.58],\n",
       "       [0.48],\n",
       "       [0.44],\n",
       "       [0.46],\n",
       "       [0.32],\n",
       "       [0.5 ],\n",
       "       [0.28],\n",
       "       [0.24],\n",
       "       [0.58],\n",
       "       [0.38],\n",
       "       [0.44],\n",
       "       [0.32],\n",
       "       [0.28],\n",
       "       [0.14],\n",
       "       [0.24],\n",
       "       [0.1 ],\n",
       "       [0.44],\n",
       "       [0.22],\n",
       "       [0.26],\n",
       "       [0.54],\n",
       "       [0.42],\n",
       "       [0.32],\n",
       "       [0.18],\n",
       "       [0.32],\n",
       "       [0.44],\n",
       "       [0.4 ],\n",
       "       [0.32],\n",
       "       [0.16],\n",
       "       [0.08],\n",
       "       [0.14],\n",
       "       [0.38],\n",
       "       [0.46],\n",
       "       [0.36],\n",
       "       [0.26],\n",
       "       [0.44],\n",
       "       [0.46],\n",
       "       [0.4 ],\n",
       "       [0.3 ],\n",
       "       [0.22],\n",
       "       [0.24],\n",
       "       [0.66],\n",
       "       [0.26],\n",
       "       [0.18],\n",
       "       [0.54],\n",
       "       [0.36],\n",
       "       [0.32],\n",
       "       [0.36],\n",
       "       [0.48],\n",
       "       [0.22],\n",
       "       [0.26],\n",
       "       [0.2 ],\n",
       "       [0.24],\n",
       "       [0.3 ],\n",
       "       [0.3 ],\n",
       "       [0.22],\n",
       "       [0.6 ],\n",
       "       [0.22],\n",
       "       [0.22],\n",
       "       [0.3 ],\n",
       "       [0.24],\n",
       "       [0.18],\n",
       "       [0.38],\n",
       "       [0.22],\n",
       "       [0.46],\n",
       "       [0.14],\n",
       "       [0.46],\n",
       "       [0.44],\n",
       "       [0.62],\n",
       "       [0.22],\n",
       "       [0.28],\n",
       "       [0.24],\n",
       "       [0.34],\n",
       "       [0.38],\n",
       "       [0.7 ],\n",
       "       [0.56],\n",
       "       [0.18],\n",
       "       [0.24],\n",
       "       [0.3 ],\n",
       "       [0.2 ],\n",
       "       [0.32],\n",
       "       [0.48],\n",
       "       [0.3 ],\n",
       "       [0.58],\n",
       "       [0.14],\n",
       "       [0.22],\n",
       "       [0.34],\n",
       "       [0.24],\n",
       "       [0.38],\n",
       "       [0.36],\n",
       "       [0.38],\n",
       "       [0.3 ],\n",
       "       [0.02],\n",
       "       [0.22],\n",
       "       [0.4 ],\n",
       "       [0.26],\n",
       "       [0.64],\n",
       "       [0.36],\n",
       "       [0.44],\n",
       "       [0.36],\n",
       "       [0.28],\n",
       "       [0.4 ],\n",
       "       [0.32],\n",
       "       [0.2 ],\n",
       "       [0.4 ],\n",
       "       [0.34],\n",
       "       [0.3 ],\n",
       "       [0.44],\n",
       "       [0.46],\n",
       "       [0.22],\n",
       "       [0.24],\n",
       "       [0.5 ],\n",
       "       [0.56],\n",
       "       [0.26],\n",
       "       [0.2 ],\n",
       "       [0.46],\n",
       "       [0.38],\n",
       "       [0.5 ],\n",
       "       [0.22],\n",
       "       [0.36],\n",
       "       [0.24],\n",
       "       [0.34],\n",
       "       [0.22],\n",
       "       [0.14],\n",
       "       [0.26],\n",
       "       [0.34],\n",
       "       [0.32],\n",
       "       [0.44],\n",
       "       [0.3 ],\n",
       "       [0.48],\n",
       "       [0.2 ],\n",
       "       [0.14],\n",
       "       [0.38],\n",
       "       [0.4 ],\n",
       "       [0.36],\n",
       "       [0.36],\n",
       "       [0.72],\n",
       "       [0.4 ],\n",
       "       [0.44],\n",
       "       [0.3 ],\n",
       "       [0.28],\n",
       "       [0.44],\n",
       "       [0.38],\n",
       "       [0.68],\n",
       "       [0.46],\n",
       "       [0.56],\n",
       "       [0.36],\n",
       "       [0.48],\n",
       "       [0.06],\n",
       "       [0.24],\n",
       "       [0.42],\n",
       "       [0.36],\n",
       "       [0.38],\n",
       "       [0.26],\n",
       "       [0.44],\n",
       "       [0.44],\n",
       "       [0.44],\n",
       "       [0.48],\n",
       "       [0.3 ],\n",
       "       [0.38],\n",
       "       [0.24],\n",
       "       [0.26],\n",
       "       [0.32],\n",
       "       [0.44],\n",
       "       [0.4 ],\n",
       "       [0.48],\n",
       "       [0.26],\n",
       "       [0.36],\n",
       "       [0.54],\n",
       "       [0.32],\n",
       "       [0.36],\n",
       "       [0.46],\n",
       "       [0.82],\n",
       "       [0.44],\n",
       "       [0.22],\n",
       "       [0.3 ],\n",
       "       [0.42],\n",
       "       [0.5 ],\n",
       "       [0.46],\n",
       "       [0.42],\n",
       "       [0.28],\n",
       "       [0.32],\n",
       "       [0.42],\n",
       "       [0.44],\n",
       "       [0.2 ],\n",
       "       [0.42],\n",
       "       [0.3 ],\n",
       "       [0.46],\n",
       "       [0.46],\n",
       "       [0.34],\n",
       "       [0.32],\n",
       "       [0.42],\n",
       "       [0.5 ],\n",
       "       [0.54],\n",
       "       [0.36],\n",
       "       [0.38],\n",
       "       [0.56],\n",
       "       [0.36],\n",
       "       [0.42],\n",
       "       [0.3 ],\n",
       "       [0.9 ],\n",
       "       [0.34],\n",
       "       [0.38],\n",
       "       [0.56],\n",
       "       [0.42],\n",
       "       [0.44],\n",
       "       [0.26],\n",
       "       [0.68],\n",
       "       [0.42],\n",
       "       [0.38],\n",
       "       [0.6 ],\n",
       "       [0.38],\n",
       "       [0.22],\n",
       "       [0.34],\n",
       "       [0.66],\n",
       "       [0.42],\n",
       "       [0.6 ],\n",
       "       [0.64],\n",
       "       [0.32],\n",
       "       [0.72],\n",
       "       [0.64],\n",
       "       [1.  ],\n",
       "       [0.64],\n",
       "       [0.42],\n",
       "       [0.4 ],\n",
       "       [0.34],\n",
       "       [0.48],\n",
       "       [0.56],\n",
       "       [0.66],\n",
       "       [0.52],\n",
       "       [0.62],\n",
       "       [0.66],\n",
       "       [0.48],\n",
       "       [0.42],\n",
       "       [0.4 ],\n",
       "       [0.38],\n",
       "       [0.44],\n",
       "       [0.54],\n",
       "       [0.5 ],\n",
       "       [0.4 ],\n",
       "       [0.34],\n",
       "       [0.72],\n",
       "       [0.36],\n",
       "       [0.38],\n",
       "       [0.56],\n",
       "       [0.52],\n",
       "       [0.44],\n",
       "       [0.4 ],\n",
       "       [0.38],\n",
       "       [0.3 ],\n",
       "       [0.48],\n",
       "       [0.3 ],\n",
       "       [0.26],\n",
       "       [0.38],\n",
       "       [0.24],\n",
       "       [0.1 ],\n",
       "       [0.42],\n",
       "       [0.26],\n",
       "       [0.44],\n",
       "       [0.46],\n",
       "       [0.5 ],\n",
       "       [0.52],\n",
       "       [0.4 ],\n",
       "       [0.38],\n",
       "       [0.72],\n",
       "       [0.44],\n",
       "       [0.58],\n",
       "       [0.46],\n",
       "       [0.38],\n",
       "       [0.34],\n",
       "       [0.34],\n",
       "       [0.44],\n",
       "       [0.24],\n",
       "       [0.24],\n",
       "       [0.34],\n",
       "       [0.32],\n",
       "       [0.2 ],\n",
       "       [0.38],\n",
       "       [0.48],\n",
       "       [0.56],\n",
       "       [0.42],\n",
       "       [0.34],\n",
       "       [0.68],\n",
       "       [0.52],\n",
       "       [0.44],\n",
       "       [0.52],\n",
       "       [0.56],\n",
       "       [0.46],\n",
       "       [0.42],\n",
       "       [0.58],\n",
       "       [0.44],\n",
       "       [0.18],\n",
       "       [0.46],\n",
       "       [0.36],\n",
       "       [0.22],\n",
       "       [0.2 ],\n",
       "       [0.26],\n",
       "       [0.52],\n",
       "       [0.4 ],\n",
       "       [0.4 ],\n",
       "       [0.22],\n",
       "       [0.32],\n",
       "       [0.24],\n",
       "       [0.58],\n",
       "       [0.48],\n",
       "       [0.58],\n",
       "       [0.32],\n",
       "       [0.34],\n",
       "       [0.38],\n",
       "       [0.38],\n",
       "       [0.6 ],\n",
       "       [0.32],\n",
       "       [0.34],\n",
       "       [0.3 ],\n",
       "       [0.42],\n",
       "       [0.22],\n",
       "       [0.28],\n",
       "       [0.58],\n",
       "       [0.5 ],\n",
       "       [0.64],\n",
       "       [0.54]])"
      ]
     },
     "execution_count": 17,
     "metadata": {},
     "output_type": "execute_result"
    }
   ],
   "source": [
    "birth_normalize"
   ]
  },
  {
   "cell_type": "code",
   "execution_count": 18,
   "metadata": {},
   "outputs": [
    {
     "name": "stdout",
     "output_type": "stream",
     "text": [
      "[0.24]\n",
      "[0.18]\n",
      "[0.14]\n",
      "[0.16]\n",
      "[0.42]\n"
     ]
    }
   ],
   "source": [
    "for i in range(5):\n",
    "    print(birth_normalize[i])"
   ]
  },
  {
   "cell_type": "code",
   "execution_count": 19,
   "metadata": {},
   "outputs": [],
   "source": [
    "#dividing the data in to train & test\n",
    "\n",
    "birth_train=birth_normalize[0:330]\n",
    "birth_test=birth_normalize[330:365]"
   ]
  },
  {
   "cell_type": "code",
   "execution_count": 20,
   "metadata": {},
   "outputs": [
    {
     "data": {
      "text/plain": [
       "330"
      ]
     },
     "execution_count": 20,
     "metadata": {},
     "output_type": "execute_result"
    }
   ],
   "source": [
    "birth_train.size"
   ]
  },
  {
   "cell_type": "code",
   "execution_count": 21,
   "metadata": {},
   "outputs": [
    {
     "data": {
      "text/plain": [
       "35"
      ]
     },
     "execution_count": 21,
     "metadata": {},
     "output_type": "execute_result"
    }
   ],
   "source": [
    "birth_test.size"
   ]
  },
  {
   "cell_type": "code",
   "execution_count": 22,
   "metadata": {},
   "outputs": [],
   "source": [
    "from statsmodels.tsa.arima_model import ARIMA\n"
   ]
  },
  {
   "cell_type": "code",
   "execution_count": 23,
   "metadata": {},
   "outputs": [],
   "source": [
    "birth_model=ARIMA(birth_train,order=(2,1,3))"
   ]
  },
  {
   "cell_type": "code",
   "execution_count": 24,
   "metadata": {},
   "outputs": [],
   "source": [
    "birth_model_fit=birth_model.fit()"
   ]
  },
  {
   "cell_type": "code",
   "execution_count": 25,
   "metadata": {},
   "outputs": [
    {
     "data": {
      "text/plain": [
       "-343.1628944652838"
      ]
     },
     "execution_count": 25,
     "metadata": {},
     "output_type": "execute_result"
    }
   ],
   "source": [
    "birth_model_fit.aic"
   ]
  },
  {
   "cell_type": "code",
   "execution_count": 26,
   "metadata": {},
   "outputs": [],
   "source": [
    "#forecasting\n",
    "birth_forecast=birth_model_fit.forecast(steps=35)[0]"
   ]
  },
  {
   "cell_type": "code",
   "execution_count": 27,
   "metadata": {},
   "outputs": [
    {
     "data": {
      "text/plain": [
       "array([0.44607595, 0.46621699, 0.41298882, 0.43184464, 0.46994569,\n",
       "       0.42687067, 0.42179678, 0.46688205, 0.44150949, 0.4176209 ,\n",
       "       0.45904604, 0.45391895, 0.41947975, 0.44913696, 0.46207963,\n",
       "       0.42622792, 0.43984807, 0.465208  , 0.43587126, 0.43329575,\n",
       "       0.46371845, 0.44613059, 0.43066558, 0.45893734, 0.45497267,\n",
       "       0.43211441, 0.45267059, 0.46100126, 0.43690717, 0.44674106,\n",
       "       0.46364823, 0.44372031, 0.44259867, 0.46315735, 0.45102014])"
      ]
     },
     "execution_count": 27,
     "metadata": {},
     "output_type": "execute_result"
    }
   ],
   "source": [
    "birth_forecast"
   ]
  },
  {
   "cell_type": "code",
   "execution_count": 28,
   "metadata": {},
   "outputs": [
    {
     "data": {
      "text/plain": [
       "0.01882391448924226"
      ]
     },
     "execution_count": 28,
     "metadata": {},
     "output_type": "execute_result"
    }
   ],
   "source": [
    "from  sklearn.metrics import mean_squared_error\n",
    "mean_squared_error(birth_test,birth_forecast)"
   ]
  },
  {
   "cell_type": "code",
   "execution_count": 29,
   "metadata": {},
   "outputs": [],
   "source": [
    "birth_forecast_reshape=birth_forecast.reshape(len(birth_forecast),1)\n",
    "birth_forecast_reverse=scaler.inverse_transform(birth_forecast_reshape)"
   ]
  },
  {
   "cell_type": "code",
   "execution_count": 30,
   "metadata": {},
   "outputs": [
    {
     "data": {
      "text/plain": [
       "array([[45.30379735],\n",
       "       [46.31084957],\n",
       "       [43.64944124],\n",
       "       [44.59223186],\n",
       "       [46.49728453],\n",
       "       [44.34353326],\n",
       "       [44.08983878],\n",
       "       [46.34410264],\n",
       "       [45.07547465],\n",
       "       [43.88104508],\n",
       "       [45.95230208],\n",
       "       [45.6959474 ],\n",
       "       [43.97398759],\n",
       "       [45.45684805],\n",
       "       [46.10398137],\n",
       "       [44.31139589],\n",
       "       [44.99240331],\n",
       "       [46.26039977],\n",
       "       [44.79356311],\n",
       "       [44.66478771],\n",
       "       [46.18592261],\n",
       "       [45.30652955],\n",
       "       [44.53327898],\n",
       "       [45.94686688],\n",
       "       [45.74863357],\n",
       "       [44.60572055],\n",
       "       [45.63352961],\n",
       "       [46.05006281],\n",
       "       [44.84535828],\n",
       "       [45.33705292],\n",
       "       [46.18241161],\n",
       "       [45.1860156 ],\n",
       "       [45.12993374],\n",
       "       [46.15786748],\n",
       "       [45.55100699]])"
      ]
     },
     "execution_count": 30,
     "metadata": {},
     "output_type": "execute_result"
    }
   ],
   "source": [
    "birth_forecast_reverse"
   ]
  },
  {
   "cell_type": "code",
   "execution_count": 31,
   "metadata": {},
   "outputs": [],
   "source": [
    "birth_test_reshape=birth_test.reshape(len(birth_test),1)\n",
    "birth_test_reverse=scaler.inverse_transform(birth_test_reshape)"
   ]
  },
  {
   "cell_type": "code",
   "execution_count": 32,
   "metadata": {},
   "outputs": [
    {
     "data": {
      "text/plain": [
       "6.860013573099229"
      ]
     },
     "execution_count": 32,
     "metadata": {},
     "output_type": "execute_result"
    }
   ],
   "source": [
    "np.sqrt(mean_squared_error(birth_test_reverse,birth_forecast_reverse))"
   ]
  },
  {
   "cell_type": "code",
   "execution_count": 35,
   "metadata": {},
   "outputs": [],
   "source": [
    "#Standardization\n",
    "\n",
    "from sklearn.preprocessing import StandardScaler"
   ]
  },
  {
   "cell_type": "code",
   "execution_count": 37,
   "metadata": {},
   "outputs": [],
   "source": [
    "std_scaler=StandardScaler()\n",
    "std_scaler=std_scaler.fit(birth_arr)"
   ]
  },
  {
   "cell_type": "code",
   "execution_count": 39,
   "metadata": {},
   "outputs": [
    {
     "data": {
      "text/plain": [
       "array([41.98082192])"
      ]
     },
     "execution_count": 39,
     "metadata": {},
     "output_type": "execute_result"
    }
   ],
   "source": [
    "std_scaler.mean_"
   ]
  },
  {
   "cell_type": "code",
   "execution_count": 40,
   "metadata": {},
   "outputs": [
    {
     "data": {
      "text/plain": [
       "array([53.84894727])"
      ]
     },
     "execution_count": 40,
     "metadata": {},
     "output_type": "execute_result"
    }
   ],
   "source": [
    "std_scaler.var_"
   ]
  },
  {
   "cell_type": "code",
   "execution_count": 41,
   "metadata": {},
   "outputs": [],
   "source": [
    "std_birth=std_scaler.transform(birth_arr)"
   ]
  },
  {
   "cell_type": "code",
   "execution_count": 42,
   "metadata": {},
   "outputs": [
    {
     "name": "stdout",
     "output_type": "stream",
     "text": [
      "[-0.95130099]\n",
      "[-1.36012148]\n",
      "[-1.63266846]\n",
      "[-1.49639497]\n",
      "[0.27516045]\n"
     ]
    }
   ],
   "source": [
    "for i in range(5):\n",
    "    print(std_birth[i])"
   ]
  },
  {
   "cell_type": "code",
   "execution_count": 43,
   "metadata": {},
   "outputs": [],
   "source": [
    "std_birth_train=std_birth[0:330]\n",
    "std_birth_test=std_birth[330:365]"
   ]
  },
  {
   "cell_type": "code",
   "execution_count": 46,
   "metadata": {},
   "outputs": [],
   "source": [
    "std_birth_arima=ARIMA(std_birth_train,order=(2,1,3))"
   ]
  },
  {
   "cell_type": "code",
   "execution_count": 47,
   "metadata": {},
   "outputs": [],
   "source": [
    "std_birth_arima_fit=std_birth_arima.fit()"
   ]
  },
  {
   "cell_type": "code",
   "execution_count": 48,
   "metadata": {},
   "outputs": [
    {
     "data": {
      "text/plain": [
       "919.4940817063124"
      ]
     },
     "execution_count": 48,
     "metadata": {},
     "output_type": "execute_result"
    }
   ],
   "source": [
    "std_birth_arima_fit.aic"
   ]
  },
  {
   "cell_type": "code",
   "execution_count": 51,
   "metadata": {},
   "outputs": [],
   "source": [
    "std_birth_forecast=std_birth_arima_fit.forecast(steps=35)[0]"
   ]
  },
  {
   "cell_type": "code",
   "execution_count": 52,
   "metadata": {},
   "outputs": [
    {
     "data": {
      "text/plain": [
       "array([0.45281292, 0.59005091, 0.2273733 , 0.35584603, 0.61545494,\n",
       "       0.32195801, 0.2873835 , 0.59457915, 0.42170029, 0.25893013,\n",
       "       0.54118659, 0.50625257, 0.27159473, 0.47366899, 0.56185558,\n",
       "       0.3175731 , 0.41037691, 0.58317058, 0.3832782 , 0.36573057,\n",
       "       0.57302095, 0.45318068, 0.34780793, 0.54044363, 0.51342694,\n",
       "       0.35767804, 0.49774341, 0.55450342, 0.39033258, 0.45734036,\n",
       "       0.572539  , 0.4367537 , 0.42911388, 0.56919424, 0.48649142])"
      ]
     },
     "execution_count": 52,
     "metadata": {},
     "output_type": "execute_result"
    }
   ],
   "source": [
    "std_birth_forecast"
   ]
  },
  {
   "cell_type": "code",
   "execution_count": 53,
   "metadata": {},
   "outputs": [
    {
     "data": {
      "text/plain": [
       "array([[ 1.22907491],\n",
       "       [ 0.54770744],\n",
       "       [ 0.27516045],\n",
       "       [ 1.3653484 ],\n",
       "       [ 0.41143395],\n",
       "       [-1.36012148],\n",
       "       [ 0.54770744],\n",
       "       [-0.13366003],\n",
       "       [-1.08757449],\n",
       "       [-1.22384798],\n",
       "       [-0.8150275 ],\n",
       "       [ 0.95652792],\n",
       "       [ 0.13888696],\n",
       "       [ 0.13888696],\n",
       "       [-1.08757449],\n",
       "       [-0.40620702],\n",
       "       [-0.95130099],\n",
       "       [ 1.3653484 ],\n",
       "       [ 0.68398093],\n",
       "       [ 1.3653484 ],\n",
       "       [-0.40620702],\n",
       "       [-0.26993352],\n",
       "       [ 0.00261346],\n",
       "       [ 0.00261346],\n",
       "       [ 1.5016219 ],\n",
       "       [-0.40620702],\n",
       "       [-0.26993352],\n",
       "       [-0.54248051],\n",
       "       [ 0.27516045],\n",
       "       [-1.08757449],\n",
       "       [-0.67875401],\n",
       "       [ 1.3653484 ],\n",
       "       [ 0.82025443],\n",
       "       [ 1.77416889],\n",
       "       [ 1.09280142]])"
      ]
     },
     "execution_count": 53,
     "metadata": {},
     "output_type": "execute_result"
    }
   ],
   "source": [
    "std_birth_test"
   ]
  },
  {
   "cell_type": "code",
   "execution_count": 55,
   "metadata": {},
   "outputs": [],
   "source": [
    "birth_forecast_reshape=std_birth_forecast.reshape(len(std_birth_forecast),1)"
   ]
  },
  {
   "cell_type": "code",
   "execution_count": 56,
   "metadata": {},
   "outputs": [],
   "source": [
    "std_birth_forecast_rev = std_scaler.inverse_transform(birth_forecast_reshape)"
   ]
  },
  {
   "cell_type": "code",
   "execution_count": 57,
   "metadata": {},
   "outputs": [
    {
     "data": {
      "text/plain": [
       "array([[45.3036465 ],\n",
       "       [46.31072419],\n",
       "       [43.64932909],\n",
       "       [44.59208565],\n",
       "       [46.49714366],\n",
       "       [44.34340912],\n",
       "       [44.089695  ],\n",
       "       [46.34395324],\n",
       "       [45.07533636],\n",
       "       [43.88089893],\n",
       "       [45.9521488 ],\n",
       "       [45.69579654],\n",
       "       [43.97383409],\n",
       "       [45.4566922 ],\n",
       "       [46.10382166],\n",
       "       [44.31123184],\n",
       "       [44.99224327],\n",
       "       [46.26023503],\n",
       "       [44.79338797],\n",
       "       [44.66462018],\n",
       "       [46.18575519],\n",
       "       [45.30634521],\n",
       "       [44.53310057],\n",
       "       [45.9466968 ],\n",
       "       [45.74844339],\n",
       "       [44.60552927],\n",
       "       [45.63335471],\n",
       "       [46.04987014],\n",
       "       [44.84515425],\n",
       "       [45.33686969],\n",
       "       [46.18221854],\n",
       "       [45.18580105],\n",
       "       [45.12973861],\n",
       "       [46.15767407],\n",
       "       [45.55078554]])"
      ]
     },
     "execution_count": 57,
     "metadata": {},
     "output_type": "execute_result"
    }
   ],
   "source": [
    "std_birth_forecast_rev"
   ]
  },
  {
   "cell_type": "code",
   "execution_count": 59,
   "metadata": {},
   "outputs": [],
   "source": [
    "birth_test_reshape=std_birth_test.reshape(len(std_birth_test),1)\n",
    "birth_test_rev=std_scaler.inverse_transform(birth_test_reshape)"
   ]
  },
  {
   "cell_type": "code",
   "execution_count": 60,
   "metadata": {},
   "outputs": [
    {
     "data": {
      "text/plain": [
       "array([[51.],\n",
       "       [46.],\n",
       "       [44.],\n",
       "       [52.],\n",
       "       [45.],\n",
       "       [32.],\n",
       "       [46.],\n",
       "       [41.],\n",
       "       [34.],\n",
       "       [33.],\n",
       "       [36.],\n",
       "       [49.],\n",
       "       [43.],\n",
       "       [43.],\n",
       "       [34.],\n",
       "       [39.],\n",
       "       [35.],\n",
       "       [52.],\n",
       "       [47.],\n",
       "       [52.],\n",
       "       [39.],\n",
       "       [40.],\n",
       "       [42.],\n",
       "       [42.],\n",
       "       [53.],\n",
       "       [39.],\n",
       "       [40.],\n",
       "       [38.],\n",
       "       [44.],\n",
       "       [34.],\n",
       "       [37.],\n",
       "       [52.],\n",
       "       [48.],\n",
       "       [55.],\n",
       "       [50.]])"
      ]
     },
     "execution_count": 60,
     "metadata": {},
     "output_type": "execute_result"
    }
   ],
   "source": [
    "birth_test_rev"
   ]
  },
  {
   "cell_type": "code",
   "execution_count": 61,
   "metadata": {},
   "outputs": [
    {
     "data": {
      "text/plain": [
       "6.860013573099229"
      ]
     },
     "execution_count": 61,
     "metadata": {},
     "output_type": "execute_result"
    }
   ],
   "source": [
    "np.sqrt(mean_squared_error(birth_test_rev,birth_forecast_reverse))"
   ]
  },
  {
   "cell_type": "code",
   "execution_count": null,
   "metadata": {},
   "outputs": [],
   "source": []
  },
  {
   "cell_type": "code",
   "execution_count": null,
   "metadata": {},
   "outputs": [],
   "source": []
  },
  {
   "cell_type": "code",
   "execution_count": null,
   "metadata": {},
   "outputs": [],
   "source": []
  }
 ],
 "metadata": {
  "kernelspec": {
   "display_name": "Python 3",
   "language": "python",
   "name": "python3"
  },
  "language_info": {
   "codemirror_mode": {
    "name": "ipython",
    "version": 3
   },
   "file_extension": ".py",
   "mimetype": "text/x-python",
   "name": "python",
   "nbconvert_exporter": "python",
   "pygments_lexer": "ipython3",
   "version": "3.7.4"
  }
 },
 "nbformat": 4,
 "nbformat_minor": 2
}
